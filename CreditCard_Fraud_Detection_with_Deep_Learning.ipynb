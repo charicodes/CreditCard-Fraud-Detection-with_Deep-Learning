{
  "nbformat": 4,
  "nbformat_minor": 0,
  "metadata": {
    "colab": {
      "provenance": []
    },
    "kernelspec": {
      "name": "python3",
      "display_name": "Python 3"
    },
    "language_info": {
      "name": "python"
    }
  },
  "cells": [
    {
      "cell_type": "code",
      "source": [
        "import numpy as np\n",
        "import pandas as pd\n",
        "import os\n",
        "os.environ[\"TF_CPP_MIN_LOG_LEVEL\"] = \"3\"\n",
        "from sklearn.utils import shuffle\n",
        "import matplotlib.pyplot as plt\n",
        "\n",
        "from keras.models import Sequential\n",
        "from keras.layers import Dense, Dropout\n",
        "\n",
        "import seaborn as sns\n",
        "from sklearn.preprocessing import MinMaxScaler\n",
        "\n",
        "from sklearn.metrics import accuracy_score, precision_score, recall_score, fbeta_score,f1_score,classification_report, confusion_matrix, precision_recall_curve, roc_curve,roc_auc_score\n",
        "\n",
        "\n",
        "df_full = pd.read_csv('creditcard.csv')\n",
        "\n",
        "print(df_full.head(5))\n"
      ],
      "metadata": {
        "colab": {
          "base_uri": "https://localhost:8080/"
        },
        "id": "PvU_-MnDnPEJ",
        "outputId": "28b6d53c-c7ac-47b2-9808-8cbcf348f902"
      },
      "execution_count": 6,
      "outputs": [
        {
          "output_type": "stream",
          "name": "stdout",
          "text": [
            "   Time        V1        V2        V3        V4  ...       V26       V27       V28  Amount  Class\n",
            "0     0 -1.359807 -0.072781  2.536347  1.378155  ... -0.189115  0.133558 -0.021053  149.62    0.0\n",
            "1     0  1.191857  0.266151  0.166480  0.448154  ...  0.125895 -0.008983  0.014724    2.69    0.0\n",
            "2     1 -1.358354 -1.340163  1.773209  0.379780  ... -0.139097 -0.055353 -0.059752  378.66    0.0\n",
            "3     1 -0.966272 -0.185226  1.792993 -0.863291  ... -0.221929  0.062723  0.061458  123.50    0.0\n",
            "4     2 -1.158233  0.877737  1.548718  0.403034  ...  0.502292  0.219422  0.215153   69.99    0.0\n",
            "\n",
            "[5 rows x 31 columns]\n"
          ]
        }
      ]
    },
    {
      "cell_type": "code",
      "source": [
        "print(df_full.Class.value_counts())\n",
        "df_full.sort_values(by='Class',ascending=False,inplace=True)"
      ],
      "metadata": {
        "colab": {
          "base_uri": "https://localhost:8080/"
        },
        "id": "rC6N9Ny-tvba",
        "outputId": "145ec7b2-1283-42ef-f97b-6f30eb9cb851"
      },
      "execution_count": 8,
      "outputs": [
        {
          "output_type": "stream",
          "name": "stdout",
          "text": [
            "0.0    116697\n",
            "1.0       244\n",
            "Name: Class, dtype: int64\n"
          ]
        }
      ]
    },
    {
      "cell_type": "code",
      "source": [
        "df_full.drop('Time',axis=1,inplace=True)"
      ],
      "metadata": {
        "id": "QWDvCsekuY4C"
      },
      "execution_count": 9,
      "outputs": []
    },
    {
      "cell_type": "code",
      "source": [
        "df_sample = df_full.iloc[:3000,:]\n",
        "print(df_sample.Class.value_counts())\n",
        "shuffle_df = shuffle(df_sample,random_state=42)"
      ],
      "metadata": {
        "colab": {
          "base_uri": "https://localhost:8080/"
        },
        "id": "VKasT0deu6mo",
        "outputId": "376e61eb-f4d6-4871-d5cb-74426bafc67d"
      },
      "execution_count": 10,
      "outputs": [
        {
          "output_type": "stream",
          "name": "stdout",
          "text": [
            "0.0    2756\n",
            "1.0     244\n",
            "Name: Class, dtype: int64\n"
          ]
        }
      ]
    },
    {
      "cell_type": "markdown",
      "source": [
        "**Split** **the dataset into train and test**"
      ],
      "metadata": {
        "id": "HqA1LIh4v0x1"
      }
    },
    {
      "cell_type": "code",
      "source": [
        "df_train = shuffle_df[0:2500]\n",
        "df_test = shuffle_df[2500:]"
      ],
      "metadata": {
        "id": "kg90xsQ0vxCE"
      },
      "execution_count": 11,
      "outputs": []
    },
    {
      "cell_type": "markdown",
      "source": [
        "**Split each dataset into feature and label**"
      ],
      "metadata": {
        "id": "jcgvIIxgxA9j"
      }
    },
    {
      "cell_type": "code",
      "source": [
        "train_feature = np.array(df_train.values[:, 0:29])\n",
        "train_label = np.array(df_train.values[:, -1])\n",
        "test_feature = np.array(df_test.values[:, 0:29])  # Corrected indexing here\n",
        "test_label = np.array(df_test.values[:, -1])\n",
        "print(train_feature.shape)\n",
        "print(train_label.shape)\n"
      ],
      "metadata": {
        "colab": {
          "base_uri": "https://localhost:8080/"
        },
        "id": "e6eMbzpnxNTK",
        "outputId": "f2aa3869-f20b-48b5-bb25-862648501224"
      },
      "execution_count": 15,
      "outputs": [
        {
          "output_type": "stream",
          "name": "stdout",
          "text": [
            "(2500, 29)\n",
            "(2500,)\n"
          ]
        }
      ]
    },
    {
      "cell_type": "markdown",
      "source": [
        "**Standardize the features columns to increase training speed**"
      ],
      "metadata": {
        "id": "i9k78k_8zAyK"
      }
    },
    {
      "cell_type": "code",
      "source": [
        "scaler = MinMaxScaler()\n",
        "scaler.fit(train_feature)\n",
        "train_feature_trans = scaler.transform(train_feature)\n",
        "test_feature_trans = scaler.transform(test_feature)"
      ],
      "metadata": {
        "id": "gxyLTeDozWfy"
      },
      "execution_count": 16,
      "outputs": []
    },
    {
      "cell_type": "markdown",
      "source": [
        "**Function to train plot the learning curves**"
      ],
      "metadata": {
        "id": "K7WL147Jz8Y4"
      }
    },
    {
      "cell_type": "code",
      "source": [
        "def show_train_history(train_history,train,validation):\n",
        "  plt.plot(train_history.history[train])\n",
        "  plt.plot(train_history.history[validation])\n",
        "  plt.title('Train History')\n",
        "  plt.ylabel(train)\n",
        "  plt.xlabel('Epoch')\n",
        "  plt.legend(['train','validation'], loc='upper left')\n"
      ],
      "metadata": {
        "id": "1PCiJmbL0KRP"
      },
      "execution_count": 33,
      "outputs": []
    },
    {
      "cell_type": "markdown",
      "source": [
        "**Constructing the CNN and training phase,**\n",
        "\n",
        "---\n",
        "\n",
        "**Select the type of model**"
      ],
      "metadata": {
        "id": "_jBjY7Pe1iKV"
      }
    },
    {
      "cell_type": "code",
      "source": [
        "model = Sequential()\n",
        "\n",
        "\n",
        "#Add first Dense layer with 200 neurons and ReLu activation function\n",
        "model.add(Dense(units=200,\n",
        "                input_dim=29,\n",
        "                kernel_initializer='uniform',\n",
        "                activation='relu'))\n",
        "\n",
        "#Add Dropout to prevent overfitting\n",
        "model.add(Dropout(0.5))\n",
        "\n",
        "#Add second Dense layer with 200 neurons units and ReLu activation function\n",
        "model.add(Dense(units=200,\n",
        "                input_dim=29,\n",
        "                kernel_initializer='uniform',\n",
        "                activation='relu'))\n",
        "\n",
        "model.add(Dropout(0.5))\n",
        "\n",
        "#Add output layer with 1 neuron units and sigmoid activation function\n",
        "model.add(Dense(units=1,\n",
        "          kernel_initializer='uniform',\n",
        "          activation='sigmoid'))\n",
        "print(model.summary())\n",
        "\n",
        "model.compile(loss='binary_crossentropy',optimizer='adam',\n",
        "              metrics=['accuracy'])\n",
        "\n",
        "train_history = model.fit(x=train_feature_trans,y=train_label,\n",
        "                          validation_split=0.8,epochs=200,\n",
        "                          batch_size=500,verbose=2)\n",
        "\n",
        "show_train_history(train_history,'accuracy','val_accuracy')\n",
        "show_train_history(train_history,'loss','val_loss')\n",
        "\n",
        "\n",
        "#Evaluation phase\n",
        "scores = model.evaluate(test_feature_trans,test_label)\n",
        "\n",
        "#Print accuracy\n",
        "print('\\n')\n",
        "print('Accuracy=',scores[1])\n",
        "\n",
        "\n",
        "prediction_probs = model.predict(test_feature_trans)\n",
        "prediction = (prediction_probs > 0.5).astype(int)\n",
        "\n",
        "\n",
        "df_ans = pd.DataFrame({'Real Cases': test_label})\n",
        "df_ans['Prediction'] = prediction\n",
        "df_ans['Prediction'].value_counts()\n",
        "df_ans['Real Cases'].value_counts()\n",
        "\n",
        "cols = ['Real_Cases_1','Real_Cases_0']\n",
        "rows =['Prediction_1','Prediction_0']\n",
        "\n",
        "\n",
        "B1P1 = len(df_ans[(df_ans['Prediction'] == df_ans['Real Cases']) & (df_ans['Prediction'] == 1)])\n",
        "B1P0 = len(df_ans[(df_ans['Prediction'] != df_ans['Real Cases']) & (df_ans['Prediction'] == 0)])\n",
        "B0P1 = len(df_ans[(df_ans['Prediction'] != df_ans['Real Cases']) & (df_ans['Prediction'] == 1)])\n",
        "B0P0 = len(df_ans[(df_ans['Prediction'] == df_ans['Real Cases']) & (df_ans['Prediction'] == 0)])\n",
        "\n",
        "\n",
        "conf = np.array([[B1P1,B0P1],[B1P0,B0P0]])\n",
        "df_cm = pd.DataFrame(conf,columns=[i for i in cols],index=[i for i in rows])\n",
        "f,ax = plt.subplots(figsize=(5,5))\n",
        "sns.heatmap(df_cm,annot=True,ax=ax,fmt='d')\n",
        "plt.show()\n",
        "\n",
        "ax.xaxis.set_ticks_position('top')\n",
        "print('Total numbers of test cases: ',np.sum(conf))"
      ],
      "metadata": {
        "colab": {
          "base_uri": "https://localhost:8080/",
          "height": 1000
        },
        "id": "TitXpxf2KEii",
        "outputId": "12e6c9bd-e63a-442d-be2b-a2a11cce4596"
      },
      "execution_count": 34,
      "outputs": [
        {
          "output_type": "stream",
          "name": "stdout",
          "text": [
            "Model: \"sequential_11\"\n",
            "_________________________________________________________________\n",
            " Layer (type)                Output Shape              Param #   \n",
            "=================================================================\n",
            " dense_27 (Dense)            (None, 200)               6000      \n",
            "                                                                 \n",
            " dropout_18 (Dropout)        (None, 200)               0         \n",
            "                                                                 \n",
            " dense_28 (Dense)            (None, 200)               40200     \n",
            "                                                                 \n",
            " dropout_19 (Dropout)        (None, 200)               0         \n",
            "                                                                 \n",
            " dense_29 (Dense)            (None, 1)                 201       \n",
            "                                                                 \n",
            "=================================================================\n",
            "Total params: 46401 (181.25 KB)\n",
            "Trainable params: 46401 (181.25 KB)\n",
            "Non-trainable params: 0 (0.00 Byte)\n",
            "_________________________________________________________________\n",
            "None\n",
            "Epoch 1/200\n",
            "1/1 - 2s - loss: 0.6887 - accuracy: 0.7054 - val_loss: 0.6729 - val_accuracy: 0.9205 - 2s/epoch - 2s/step\n",
            "Epoch 2/200\n",
            "1/1 - 0s - loss: 0.6733 - accuracy: 0.9038 - val_loss: 0.6561 - val_accuracy: 0.9205 - 86ms/epoch - 86ms/step\n",
            "Epoch 3/200\n",
            "1/1 - 0s - loss: 0.6584 - accuracy: 0.9038 - val_loss: 0.6380 - val_accuracy: 0.9205 - 78ms/epoch - 78ms/step\n",
            "Epoch 4/200\n",
            "1/1 - 0s - loss: 0.6388 - accuracy: 0.9038 - val_loss: 0.6176 - val_accuracy: 0.9205 - 125ms/epoch - 125ms/step\n",
            "Epoch 5/200\n",
            "1/1 - 0s - loss: 0.6199 - accuracy: 0.9038 - val_loss: 0.5939 - val_accuracy: 0.9205 - 73ms/epoch - 73ms/step\n",
            "Epoch 6/200\n",
            "1/1 - 0s - loss: 0.5968 - accuracy: 0.9038 - val_loss: 0.5664 - val_accuracy: 0.9205 - 70ms/epoch - 70ms/step\n",
            "Epoch 7/200\n",
            "1/1 - 0s - loss: 0.5728 - accuracy: 0.9038 - val_loss: 0.5354 - val_accuracy: 0.9205 - 76ms/epoch - 76ms/step\n",
            "Epoch 8/200\n",
            "1/1 - 0s - loss: 0.5421 - accuracy: 0.9038 - val_loss: 0.5016 - val_accuracy: 0.9205 - 70ms/epoch - 70ms/step\n",
            "Epoch 9/200\n",
            "1/1 - 0s - loss: 0.5100 - accuracy: 0.9038 - val_loss: 0.4655 - val_accuracy: 0.9205 - 118ms/epoch - 118ms/step\n",
            "Epoch 10/200\n",
            "1/1 - 0s - loss: 0.4756 - accuracy: 0.9038 - val_loss: 0.4282 - val_accuracy: 0.9205 - 71ms/epoch - 71ms/step\n",
            "Epoch 11/200\n",
            "1/1 - 0s - loss: 0.4418 - accuracy: 0.9038 - val_loss: 0.3912 - val_accuracy: 0.9205 - 113ms/epoch - 113ms/step\n",
            "Epoch 12/200\n",
            "1/1 - 0s - loss: 0.4097 - accuracy: 0.9038 - val_loss: 0.3559 - val_accuracy: 0.9205 - 71ms/epoch - 71ms/step\n",
            "Epoch 13/200\n",
            "1/1 - 0s - loss: 0.3718 - accuracy: 0.9038 - val_loss: 0.3241 - val_accuracy: 0.9205 - 72ms/epoch - 72ms/step\n",
            "Epoch 14/200\n",
            "1/1 - 0s - loss: 0.3504 - accuracy: 0.9038 - val_loss: 0.2975 - val_accuracy: 0.9205 - 73ms/epoch - 73ms/step\n",
            "Epoch 15/200\n",
            "1/1 - 0s - loss: 0.3244 - accuracy: 0.9038 - val_loss: 0.2772 - val_accuracy: 0.9205 - 67ms/epoch - 67ms/step\n",
            "Epoch 16/200\n",
            "1/1 - 0s - loss: 0.3047 - accuracy: 0.9038 - val_loss: 0.2638 - val_accuracy: 0.9205 - 68ms/epoch - 68ms/step\n",
            "Epoch 17/200\n",
            "1/1 - 0s - loss: 0.2970 - accuracy: 0.9038 - val_loss: 0.2569 - val_accuracy: 0.9205 - 88ms/epoch - 88ms/step\n",
            "Epoch 18/200\n",
            "1/1 - 0s - loss: 0.2921 - accuracy: 0.9038 - val_loss: 0.2554 - val_accuracy: 0.9205 - 115ms/epoch - 115ms/step\n",
            "Epoch 19/200\n",
            "1/1 - 0s - loss: 0.3031 - accuracy: 0.9038 - val_loss: 0.2574 - val_accuracy: 0.9205 - 78ms/epoch - 78ms/step\n",
            "Epoch 20/200\n",
            "1/1 - 0s - loss: 0.3128 - accuracy: 0.9038 - val_loss: 0.2608 - val_accuracy: 0.9205 - 83ms/epoch - 83ms/step\n",
            "Epoch 21/200\n",
            "1/1 - 0s - loss: 0.3124 - accuracy: 0.9038 - val_loss: 0.2639 - val_accuracy: 0.9205 - 140ms/epoch - 140ms/step\n",
            "Epoch 22/200\n",
            "1/1 - 0s - loss: 0.3128 - accuracy: 0.9038 - val_loss: 0.2658 - val_accuracy: 0.9205 - 117ms/epoch - 117ms/step\n",
            "Epoch 23/200\n",
            "1/1 - 0s - loss: 0.3181 - accuracy: 0.9038 - val_loss: 0.2659 - val_accuracy: 0.9205 - 80ms/epoch - 80ms/step\n",
            "Epoch 24/200\n",
            "1/1 - 0s - loss: 0.3206 - accuracy: 0.9038 - val_loss: 0.2643 - val_accuracy: 0.9205 - 82ms/epoch - 82ms/step\n",
            "Epoch 25/200\n",
            "1/1 - 0s - loss: 0.3239 - accuracy: 0.9038 - val_loss: 0.2612 - val_accuracy: 0.9205 - 119ms/epoch - 119ms/step\n",
            "Epoch 26/200\n",
            "1/1 - 0s - loss: 0.3134 - accuracy: 0.9038 - val_loss: 0.2572 - val_accuracy: 0.9205 - 84ms/epoch - 84ms/step\n",
            "Epoch 27/200\n",
            "1/1 - 0s - loss: 0.3123 - accuracy: 0.9038 - val_loss: 0.2528 - val_accuracy: 0.9205 - 84ms/epoch - 84ms/step\n",
            "Epoch 28/200\n",
            "1/1 - 0s - loss: 0.2980 - accuracy: 0.9038 - val_loss: 0.2488 - val_accuracy: 0.9205 - 85ms/epoch - 85ms/step\n",
            "Epoch 29/200\n",
            "1/1 - 0s - loss: 0.3028 - accuracy: 0.9038 - val_loss: 0.2456 - val_accuracy: 0.9205 - 129ms/epoch - 129ms/step\n",
            "Epoch 30/200\n",
            "1/1 - 0s - loss: 0.2919 - accuracy: 0.9038 - val_loss: 0.2437 - val_accuracy: 0.9205 - 90ms/epoch - 90ms/step\n",
            "Epoch 31/200\n",
            "1/1 - 0s - loss: 0.2825 - accuracy: 0.9038 - val_loss: 0.2432 - val_accuracy: 0.9205 - 138ms/epoch - 138ms/step\n",
            "Epoch 32/200\n",
            "1/1 - 0s - loss: 0.2865 - accuracy: 0.9038 - val_loss: 0.2440 - val_accuracy: 0.9205 - 129ms/epoch - 129ms/step\n",
            "Epoch 33/200\n",
            "1/1 - 0s - loss: 0.2884 - accuracy: 0.9038 - val_loss: 0.2455 - val_accuracy: 0.9205 - 128ms/epoch - 128ms/step\n",
            "Epoch 34/200\n",
            "1/1 - 0s - loss: 0.2827 - accuracy: 0.9038 - val_loss: 0.2470 - val_accuracy: 0.9205 - 88ms/epoch - 88ms/step\n",
            "Epoch 35/200\n",
            "1/1 - 0s - loss: 0.2875 - accuracy: 0.9038 - val_loss: 0.2481 - val_accuracy: 0.9205 - 128ms/epoch - 128ms/step\n",
            "Epoch 36/200\n",
            "1/1 - 0s - loss: 0.2878 - accuracy: 0.9038 - val_loss: 0.2482 - val_accuracy: 0.9205 - 135ms/epoch - 135ms/step\n",
            "Epoch 37/200\n",
            "1/1 - 0s - loss: 0.2874 - accuracy: 0.9038 - val_loss: 0.2471 - val_accuracy: 0.9205 - 72ms/epoch - 72ms/step\n",
            "Epoch 38/200\n",
            "1/1 - 0s - loss: 0.2906 - accuracy: 0.9038 - val_loss: 0.2450 - val_accuracy: 0.9205 - 60ms/epoch - 60ms/step\n",
            "Epoch 39/200\n",
            "1/1 - 0s - loss: 0.2772 - accuracy: 0.9038 - val_loss: 0.2422 - val_accuracy: 0.9205 - 60ms/epoch - 60ms/step\n",
            "Epoch 40/200\n",
            "1/1 - 0s - loss: 0.2820 - accuracy: 0.9038 - val_loss: 0.2390 - val_accuracy: 0.9205 - 59ms/epoch - 59ms/step\n",
            "Epoch 41/200\n",
            "1/1 - 0s - loss: 0.2645 - accuracy: 0.9038 - val_loss: 0.2357 - val_accuracy: 0.9205 - 62ms/epoch - 62ms/step\n",
            "Epoch 42/200\n",
            "1/1 - 0s - loss: 0.2659 - accuracy: 0.9038 - val_loss: 0.2326 - val_accuracy: 0.9205 - 58ms/epoch - 58ms/step\n",
            "Epoch 43/200\n",
            "1/1 - 0s - loss: 0.2715 - accuracy: 0.9038 - val_loss: 0.2299 - val_accuracy: 0.9205 - 56ms/epoch - 56ms/step\n",
            "Epoch 44/200\n",
            "1/1 - 0s - loss: 0.2727 - accuracy: 0.9038 - val_loss: 0.2275 - val_accuracy: 0.9205 - 60ms/epoch - 60ms/step\n",
            "Epoch 45/200\n",
            "1/1 - 0s - loss: 0.2681 - accuracy: 0.9038 - val_loss: 0.2256 - val_accuracy: 0.9205 - 58ms/epoch - 58ms/step\n",
            "Epoch 46/200\n",
            "1/1 - 0s - loss: 0.2714 - accuracy: 0.9038 - val_loss: 0.2238 - val_accuracy: 0.9205 - 67ms/epoch - 67ms/step\n",
            "Epoch 47/200\n",
            "1/1 - 0s - loss: 0.2655 - accuracy: 0.9038 - val_loss: 0.2222 - val_accuracy: 0.9205 - 64ms/epoch - 64ms/step\n",
            "Epoch 48/200\n",
            "1/1 - 0s - loss: 0.2565 - accuracy: 0.9038 - val_loss: 0.2206 - val_accuracy: 0.9205 - 59ms/epoch - 59ms/step\n",
            "Epoch 49/200\n",
            "1/1 - 0s - loss: 0.2532 - accuracy: 0.9038 - val_loss: 0.2190 - val_accuracy: 0.9205 - 60ms/epoch - 60ms/step\n",
            "Epoch 50/200\n",
            "1/1 - 0s - loss: 0.2554 - accuracy: 0.9038 - val_loss: 0.2174 - val_accuracy: 0.9205 - 68ms/epoch - 68ms/step\n",
            "Epoch 51/200\n",
            "1/1 - 0s - loss: 0.2511 - accuracy: 0.9038 - val_loss: 0.2156 - val_accuracy: 0.9205 - 55ms/epoch - 55ms/step\n",
            "Epoch 52/200\n",
            "1/1 - 0s - loss: 0.2566 - accuracy: 0.9038 - val_loss: 0.2138 - val_accuracy: 0.9205 - 59ms/epoch - 59ms/step\n",
            "Epoch 53/200\n",
            "1/1 - 0s - loss: 0.2460 - accuracy: 0.9038 - val_loss: 0.2121 - val_accuracy: 0.9205 - 56ms/epoch - 56ms/step\n",
            "Epoch 54/200\n",
            "1/1 - 0s - loss: 0.2429 - accuracy: 0.9038 - val_loss: 0.2103 - val_accuracy: 0.9205 - 60ms/epoch - 60ms/step\n",
            "Epoch 55/200\n",
            "1/1 - 0s - loss: 0.2436 - accuracy: 0.9038 - val_loss: 0.2087 - val_accuracy: 0.9205 - 61ms/epoch - 61ms/step\n",
            "Epoch 56/200\n",
            "1/1 - 0s - loss: 0.2474 - accuracy: 0.9038 - val_loss: 0.2071 - val_accuracy: 0.9205 - 72ms/epoch - 72ms/step\n",
            "Epoch 57/200\n",
            "1/1 - 0s - loss: 0.2481 - accuracy: 0.9038 - val_loss: 0.2056 - val_accuracy: 0.9205 - 63ms/epoch - 63ms/step\n",
            "Epoch 58/200\n",
            "1/1 - 0s - loss: 0.2450 - accuracy: 0.9058 - val_loss: 0.2041 - val_accuracy: 0.9205 - 62ms/epoch - 62ms/step\n",
            "Epoch 59/200\n",
            "1/1 - 0s - loss: 0.2316 - accuracy: 0.9038 - val_loss: 0.2025 - val_accuracy: 0.9205 - 63ms/epoch - 63ms/step\n",
            "Epoch 60/200\n",
            "1/1 - 0s - loss: 0.2328 - accuracy: 0.9038 - val_loss: 0.2008 - val_accuracy: 0.9205 - 63ms/epoch - 63ms/step\n",
            "Epoch 61/200\n",
            "1/1 - 0s - loss: 0.2306 - accuracy: 0.9038 - val_loss: 0.1989 - val_accuracy: 0.9205 - 64ms/epoch - 64ms/step\n",
            "Epoch 62/200\n",
            "1/1 - 0s - loss: 0.2319 - accuracy: 0.9038 - val_loss: 0.1968 - val_accuracy: 0.9205 - 59ms/epoch - 59ms/step\n",
            "Epoch 63/200\n",
            "1/1 - 0s - loss: 0.2309 - accuracy: 0.9078 - val_loss: 0.1946 - val_accuracy: 0.9205 - 63ms/epoch - 63ms/step\n",
            "Epoch 64/200\n",
            "1/1 - 0s - loss: 0.2256 - accuracy: 0.9098 - val_loss: 0.1923 - val_accuracy: 0.9225 - 59ms/epoch - 59ms/step\n",
            "Epoch 65/200\n",
            "1/1 - 0s - loss: 0.2306 - accuracy: 0.9098 - val_loss: 0.1900 - val_accuracy: 0.9270 - 57ms/epoch - 57ms/step\n",
            "Epoch 66/200\n",
            "1/1 - 0s - loss: 0.2220 - accuracy: 0.9158 - val_loss: 0.1879 - val_accuracy: 0.9305 - 47ms/epoch - 47ms/step\n",
            "Epoch 67/200\n",
            "1/1 - 0s - loss: 0.2194 - accuracy: 0.9098 - val_loss: 0.1859 - val_accuracy: 0.9345 - 50ms/epoch - 50ms/step\n",
            "Epoch 68/200\n",
            "1/1 - 0s - loss: 0.2156 - accuracy: 0.9118 - val_loss: 0.1841 - val_accuracy: 0.9345 - 50ms/epoch - 50ms/step\n",
            "Epoch 69/200\n",
            "1/1 - 0s - loss: 0.2040 - accuracy: 0.9178 - val_loss: 0.1825 - val_accuracy: 0.9350 - 53ms/epoch - 53ms/step\n",
            "Epoch 70/200\n",
            "1/1 - 0s - loss: 0.2098 - accuracy: 0.9118 - val_loss: 0.1809 - val_accuracy: 0.9350 - 58ms/epoch - 58ms/step\n",
            "Epoch 71/200\n",
            "1/1 - 0s - loss: 0.2051 - accuracy: 0.9178 - val_loss: 0.1793 - val_accuracy: 0.9350 - 56ms/epoch - 56ms/step\n",
            "Epoch 72/200\n",
            "1/1 - 0s - loss: 0.2149 - accuracy: 0.9178 - val_loss: 0.1776 - val_accuracy: 0.9425 - 66ms/epoch - 66ms/step\n",
            "Epoch 73/200\n",
            "1/1 - 0s - loss: 0.2026 - accuracy: 0.9259 - val_loss: 0.1760 - val_accuracy: 0.9425 - 46ms/epoch - 46ms/step\n",
            "Epoch 74/200\n",
            "1/1 - 0s - loss: 0.2046 - accuracy: 0.9279 - val_loss: 0.1744 - val_accuracy: 0.9425 - 48ms/epoch - 48ms/step\n",
            "Epoch 75/200\n",
            "1/1 - 0s - loss: 0.2064 - accuracy: 0.9178 - val_loss: 0.1728 - val_accuracy: 0.9425 - 60ms/epoch - 60ms/step\n",
            "Epoch 76/200\n",
            "1/1 - 0s - loss: 0.2056 - accuracy: 0.9279 - val_loss: 0.1713 - val_accuracy: 0.9425 - 57ms/epoch - 57ms/step\n",
            "Epoch 77/200\n",
            "1/1 - 0s - loss: 0.1974 - accuracy: 0.9259 - val_loss: 0.1698 - val_accuracy: 0.9425 - 60ms/epoch - 60ms/step\n",
            "Epoch 78/200\n",
            "1/1 - 0s - loss: 0.1841 - accuracy: 0.9259 - val_loss: 0.1682 - val_accuracy: 0.9425 - 56ms/epoch - 56ms/step\n",
            "Epoch 79/200\n",
            "1/1 - 0s - loss: 0.1929 - accuracy: 0.9299 - val_loss: 0.1667 - val_accuracy: 0.9445 - 49ms/epoch - 49ms/step\n",
            "Epoch 80/200\n",
            "1/1 - 0s - loss: 0.1901 - accuracy: 0.9279 - val_loss: 0.1650 - val_accuracy: 0.9480 - 51ms/epoch - 51ms/step\n",
            "Epoch 81/200\n",
            "1/1 - 0s - loss: 0.1913 - accuracy: 0.9319 - val_loss: 0.1632 - val_accuracy: 0.9490 - 47ms/epoch - 47ms/step\n",
            "Epoch 82/200\n",
            "1/1 - 0s - loss: 0.1877 - accuracy: 0.9339 - val_loss: 0.1613 - val_accuracy: 0.9490 - 55ms/epoch - 55ms/step\n",
            "Epoch 83/200\n",
            "1/1 - 0s - loss: 0.1803 - accuracy: 0.9379 - val_loss: 0.1592 - val_accuracy: 0.9490 - 47ms/epoch - 47ms/step\n",
            "Epoch 84/200\n",
            "1/1 - 0s - loss: 0.1850 - accuracy: 0.9319 - val_loss: 0.1573 - val_accuracy: 0.9490 - 49ms/epoch - 49ms/step\n",
            "Epoch 85/200\n",
            "1/1 - 0s - loss: 0.1792 - accuracy: 0.9359 - val_loss: 0.1553 - val_accuracy: 0.9490 - 52ms/epoch - 52ms/step\n",
            "Epoch 86/200\n",
            "1/1 - 0s - loss: 0.1799 - accuracy: 0.9319 - val_loss: 0.1534 - val_accuracy: 0.9495 - 57ms/epoch - 57ms/step\n",
            "Epoch 87/200\n",
            "1/1 - 0s - loss: 0.1817 - accuracy: 0.9359 - val_loss: 0.1514 - val_accuracy: 0.9495 - 62ms/epoch - 62ms/step\n",
            "Epoch 88/200\n",
            "1/1 - 0s - loss: 0.1734 - accuracy: 0.9359 - val_loss: 0.1494 - val_accuracy: 0.9510 - 47ms/epoch - 47ms/step\n",
            "Epoch 89/200\n",
            "1/1 - 0s - loss: 0.1722 - accuracy: 0.9379 - val_loss: 0.1474 - val_accuracy: 0.9540 - 58ms/epoch - 58ms/step\n",
            "Epoch 90/200\n",
            "1/1 - 0s - loss: 0.1725 - accuracy: 0.9419 - val_loss: 0.1454 - val_accuracy: 0.9540 - 47ms/epoch - 47ms/step\n",
            "Epoch 91/200\n",
            "1/1 - 0s - loss: 0.1638 - accuracy: 0.9459 - val_loss: 0.1434 - val_accuracy: 0.9545 - 50ms/epoch - 50ms/step\n",
            "Epoch 92/200\n",
            "1/1 - 0s - loss: 0.1628 - accuracy: 0.9439 - val_loss: 0.1414 - val_accuracy: 0.9545 - 49ms/epoch - 49ms/step\n",
            "Epoch 93/200\n",
            "1/1 - 0s - loss: 0.1633 - accuracy: 0.9459 - val_loss: 0.1393 - val_accuracy: 0.9555 - 48ms/epoch - 48ms/step\n",
            "Epoch 94/200\n",
            "1/1 - 0s - loss: 0.1604 - accuracy: 0.9439 - val_loss: 0.1373 - val_accuracy: 0.9570 - 57ms/epoch - 57ms/step\n",
            "Epoch 95/200\n",
            "1/1 - 0s - loss: 0.1550 - accuracy: 0.9539 - val_loss: 0.1352 - val_accuracy: 0.9605 - 57ms/epoch - 57ms/step\n",
            "Epoch 96/200\n",
            "1/1 - 0s - loss: 0.1565 - accuracy: 0.9459 - val_loss: 0.1332 - val_accuracy: 0.9605 - 55ms/epoch - 55ms/step\n",
            "Epoch 97/200\n",
            "1/1 - 0s - loss: 0.1450 - accuracy: 0.9499 - val_loss: 0.1311 - val_accuracy: 0.9610 - 50ms/epoch - 50ms/step\n",
            "Epoch 98/200\n",
            "1/1 - 0s - loss: 0.1546 - accuracy: 0.9519 - val_loss: 0.1290 - val_accuracy: 0.9610 - 49ms/epoch - 49ms/step\n",
            "Epoch 99/200\n",
            "1/1 - 0s - loss: 0.1462 - accuracy: 0.9519 - val_loss: 0.1270 - val_accuracy: 0.9620 - 68ms/epoch - 68ms/step\n",
            "Epoch 100/200\n",
            "1/1 - 0s - loss: 0.1357 - accuracy: 0.9619 - val_loss: 0.1250 - val_accuracy: 0.9630 - 62ms/epoch - 62ms/step\n",
            "Epoch 101/200\n",
            "1/1 - 0s - loss: 0.1370 - accuracy: 0.9559 - val_loss: 0.1230 - val_accuracy: 0.9635 - 62ms/epoch - 62ms/step\n",
            "Epoch 102/200\n",
            "1/1 - 0s - loss: 0.1394 - accuracy: 0.9559 - val_loss: 0.1210 - val_accuracy: 0.9645 - 55ms/epoch - 55ms/step\n",
            "Epoch 103/200\n",
            "1/1 - 0s - loss: 0.1376 - accuracy: 0.9599 - val_loss: 0.1191 - val_accuracy: 0.9660 - 56ms/epoch - 56ms/step\n",
            "Epoch 104/200\n",
            "1/1 - 0s - loss: 0.1321 - accuracy: 0.9519 - val_loss: 0.1170 - val_accuracy: 0.9660 - 61ms/epoch - 61ms/step\n",
            "Epoch 105/200\n",
            "1/1 - 0s - loss: 0.1283 - accuracy: 0.9639 - val_loss: 0.1149 - val_accuracy: 0.9660 - 65ms/epoch - 65ms/step\n",
            "Epoch 106/200\n",
            "1/1 - 0s - loss: 0.1297 - accuracy: 0.9639 - val_loss: 0.1129 - val_accuracy: 0.9670 - 68ms/epoch - 68ms/step\n",
            "Epoch 107/200\n",
            "1/1 - 0s - loss: 0.1282 - accuracy: 0.9619 - val_loss: 0.1110 - val_accuracy: 0.9675 - 58ms/epoch - 58ms/step\n",
            "Epoch 108/200\n",
            "1/1 - 0s - loss: 0.1169 - accuracy: 0.9679 - val_loss: 0.1091 - val_accuracy: 0.9685 - 59ms/epoch - 59ms/step\n",
            "Epoch 109/200\n",
            "1/1 - 0s - loss: 0.1322 - accuracy: 0.9619 - val_loss: 0.1073 - val_accuracy: 0.9690 - 62ms/epoch - 62ms/step\n",
            "Epoch 110/200\n",
            "1/1 - 0s - loss: 0.1172 - accuracy: 0.9679 - val_loss: 0.1055 - val_accuracy: 0.9695 - 57ms/epoch - 57ms/step\n",
            "Epoch 111/200\n",
            "1/1 - 0s - loss: 0.1156 - accuracy: 0.9639 - val_loss: 0.1038 - val_accuracy: 0.9700 - 61ms/epoch - 61ms/step\n",
            "Epoch 112/200\n",
            "1/1 - 0s - loss: 0.1095 - accuracy: 0.9739 - val_loss: 0.1021 - val_accuracy: 0.9700 - 55ms/epoch - 55ms/step\n",
            "Epoch 113/200\n",
            "1/1 - 0s - loss: 0.1099 - accuracy: 0.9739 - val_loss: 0.1005 - val_accuracy: 0.9705 - 57ms/epoch - 57ms/step\n",
            "Epoch 114/200\n",
            "1/1 - 0s - loss: 0.1099 - accuracy: 0.9719 - val_loss: 0.0990 - val_accuracy: 0.9705 - 59ms/epoch - 59ms/step\n",
            "Epoch 115/200\n",
            "1/1 - 0s - loss: 0.1119 - accuracy: 0.9739 - val_loss: 0.0975 - val_accuracy: 0.9715 - 62ms/epoch - 62ms/step\n",
            "Epoch 116/200\n",
            "1/1 - 0s - loss: 0.1101 - accuracy: 0.9719 - val_loss: 0.0960 - val_accuracy: 0.9730 - 60ms/epoch - 60ms/step\n",
            "Epoch 117/200\n",
            "1/1 - 0s - loss: 0.0994 - accuracy: 0.9760 - val_loss: 0.0944 - val_accuracy: 0.9735 - 54ms/epoch - 54ms/step\n",
            "Epoch 118/200\n",
            "1/1 - 0s - loss: 0.0988 - accuracy: 0.9739 - val_loss: 0.0929 - val_accuracy: 0.9750 - 55ms/epoch - 55ms/step\n",
            "Epoch 119/200\n",
            "1/1 - 0s - loss: 0.1016 - accuracy: 0.9760 - val_loss: 0.0916 - val_accuracy: 0.9770 - 60ms/epoch - 60ms/step\n",
            "Epoch 120/200\n",
            "1/1 - 0s - loss: 0.0969 - accuracy: 0.9780 - val_loss: 0.0904 - val_accuracy: 0.9780 - 58ms/epoch - 58ms/step\n",
            "Epoch 121/200\n",
            "1/1 - 0s - loss: 0.1001 - accuracy: 0.9800 - val_loss: 0.0893 - val_accuracy: 0.9780 - 54ms/epoch - 54ms/step\n",
            "Epoch 122/200\n",
            "1/1 - 0s - loss: 0.0944 - accuracy: 0.9760 - val_loss: 0.0884 - val_accuracy: 0.9780 - 65ms/epoch - 65ms/step\n",
            "Epoch 123/200\n",
            "1/1 - 0s - loss: 0.0982 - accuracy: 0.9780 - val_loss: 0.0875 - val_accuracy: 0.9790 - 55ms/epoch - 55ms/step\n",
            "Epoch 124/200\n",
            "1/1 - 0s - loss: 0.0881 - accuracy: 0.9820 - val_loss: 0.0868 - val_accuracy: 0.9790 - 59ms/epoch - 59ms/step\n",
            "Epoch 125/200\n",
            "1/1 - 0s - loss: 0.0914 - accuracy: 0.9780 - val_loss: 0.0859 - val_accuracy: 0.9790 - 56ms/epoch - 56ms/step\n",
            "Epoch 126/200\n",
            "1/1 - 0s - loss: 0.0860 - accuracy: 0.9820 - val_loss: 0.0849 - val_accuracy: 0.9795 - 72ms/epoch - 72ms/step\n",
            "Epoch 127/200\n",
            "1/1 - 0s - loss: 0.0965 - accuracy: 0.9820 - val_loss: 0.0841 - val_accuracy: 0.9795 - 66ms/epoch - 66ms/step\n",
            "Epoch 128/200\n",
            "1/1 - 0s - loss: 0.0902 - accuracy: 0.9820 - val_loss: 0.0834 - val_accuracy: 0.9795 - 66ms/epoch - 66ms/step\n",
            "Epoch 129/200\n",
            "1/1 - 0s - loss: 0.0868 - accuracy: 0.9820 - val_loss: 0.0828 - val_accuracy: 0.9795 - 65ms/epoch - 65ms/step\n",
            "Epoch 130/200\n",
            "1/1 - 0s - loss: 0.0857 - accuracy: 0.9820 - val_loss: 0.0822 - val_accuracy: 0.9790 - 53ms/epoch - 53ms/step\n",
            "Epoch 131/200\n",
            "1/1 - 0s - loss: 0.0875 - accuracy: 0.9800 - val_loss: 0.0815 - val_accuracy: 0.9790 - 49ms/epoch - 49ms/step\n",
            "Epoch 132/200\n",
            "1/1 - 0s - loss: 0.0920 - accuracy: 0.9800 - val_loss: 0.0806 - val_accuracy: 0.9795 - 62ms/epoch - 62ms/step\n",
            "Epoch 133/200\n",
            "1/1 - 0s - loss: 0.0839 - accuracy: 0.9820 - val_loss: 0.0799 - val_accuracy: 0.9805 - 47ms/epoch - 47ms/step\n",
            "Epoch 134/200\n",
            "1/1 - 0s - loss: 0.0951 - accuracy: 0.9820 - val_loss: 0.0793 - val_accuracy: 0.9810 - 48ms/epoch - 48ms/step\n",
            "Epoch 135/200\n",
            "1/1 - 0s - loss: 0.0829 - accuracy: 0.9840 - val_loss: 0.0790 - val_accuracy: 0.9810 - 50ms/epoch - 50ms/step\n",
            "Epoch 136/200\n",
            "1/1 - 0s - loss: 0.0840 - accuracy: 0.9820 - val_loss: 0.0787 - val_accuracy: 0.9805 - 47ms/epoch - 47ms/step\n",
            "Epoch 137/200\n",
            "1/1 - 0s - loss: 0.0849 - accuracy: 0.9840 - val_loss: 0.0785 - val_accuracy: 0.9805 - 56ms/epoch - 56ms/step\n",
            "Epoch 138/200\n",
            "1/1 - 0s - loss: 0.0781 - accuracy: 0.9820 - val_loss: 0.0781 - val_accuracy: 0.9810 - 48ms/epoch - 48ms/step\n",
            "Epoch 139/200\n",
            "1/1 - 0s - loss: 0.0823 - accuracy: 0.9820 - val_loss: 0.0775 - val_accuracy: 0.9820 - 61ms/epoch - 61ms/step\n",
            "Epoch 140/200\n",
            "1/1 - 0s - loss: 0.0842 - accuracy: 0.9840 - val_loss: 0.0768 - val_accuracy: 0.9830 - 51ms/epoch - 51ms/step\n",
            "Epoch 141/200\n",
            "1/1 - 0s - loss: 0.0777 - accuracy: 0.9800 - val_loss: 0.0761 - val_accuracy: 0.9835 - 49ms/epoch - 49ms/step\n",
            "Epoch 142/200\n",
            "1/1 - 0s - loss: 0.0771 - accuracy: 0.9820 - val_loss: 0.0756 - val_accuracy: 0.9835 - 57ms/epoch - 57ms/step\n",
            "Epoch 143/200\n",
            "1/1 - 0s - loss: 0.0750 - accuracy: 0.9840 - val_loss: 0.0753 - val_accuracy: 0.9835 - 48ms/epoch - 48ms/step\n",
            "Epoch 144/200\n",
            "1/1 - 0s - loss: 0.0742 - accuracy: 0.9840 - val_loss: 0.0750 - val_accuracy: 0.9835 - 49ms/epoch - 49ms/step\n",
            "Epoch 145/200\n",
            "1/1 - 0s - loss: 0.0729 - accuracy: 0.9820 - val_loss: 0.0750 - val_accuracy: 0.9835 - 58ms/epoch - 58ms/step\n",
            "Epoch 146/200\n",
            "1/1 - 0s - loss: 0.0791 - accuracy: 0.9840 - val_loss: 0.0753 - val_accuracy: 0.9830 - 56ms/epoch - 56ms/step\n",
            "Epoch 147/200\n",
            "1/1 - 0s - loss: 0.0791 - accuracy: 0.9840 - val_loss: 0.0759 - val_accuracy: 0.9830 - 48ms/epoch - 48ms/step\n",
            "Epoch 148/200\n",
            "1/1 - 0s - loss: 0.0799 - accuracy: 0.9800 - val_loss: 0.0760 - val_accuracy: 0.9830 - 51ms/epoch - 51ms/step\n",
            "Epoch 149/200\n",
            "1/1 - 0s - loss: 0.0712 - accuracy: 0.9840 - val_loss: 0.0753 - val_accuracy: 0.9830 - 46ms/epoch - 46ms/step\n",
            "Epoch 150/200\n",
            "1/1 - 0s - loss: 0.0763 - accuracy: 0.9840 - val_loss: 0.0743 - val_accuracy: 0.9835 - 49ms/epoch - 49ms/step\n",
            "Epoch 151/200\n",
            "1/1 - 0s - loss: 0.0773 - accuracy: 0.9820 - val_loss: 0.0732 - val_accuracy: 0.9835 - 51ms/epoch - 51ms/step\n",
            "Epoch 152/200\n",
            "1/1 - 0s - loss: 0.0759 - accuracy: 0.9840 - val_loss: 0.0727 - val_accuracy: 0.9835 - 48ms/epoch - 48ms/step\n",
            "Epoch 153/200\n",
            "1/1 - 0s - loss: 0.0773 - accuracy: 0.9820 - val_loss: 0.0725 - val_accuracy: 0.9835 - 58ms/epoch - 58ms/step\n",
            "Epoch 154/200\n",
            "1/1 - 0s - loss: 0.0733 - accuracy: 0.9860 - val_loss: 0.0723 - val_accuracy: 0.9835 - 47ms/epoch - 47ms/step\n",
            "Epoch 155/200\n",
            "1/1 - 0s - loss: 0.0840 - accuracy: 0.9840 - val_loss: 0.0720 - val_accuracy: 0.9835 - 59ms/epoch - 59ms/step\n",
            "Epoch 156/200\n",
            "1/1 - 0s - loss: 0.0801 - accuracy: 0.9840 - val_loss: 0.0721 - val_accuracy: 0.9835 - 57ms/epoch - 57ms/step\n",
            "Epoch 157/200\n",
            "1/1 - 0s - loss: 0.0775 - accuracy: 0.9840 - val_loss: 0.0728 - val_accuracy: 0.9835 - 62ms/epoch - 62ms/step\n",
            "Epoch 158/200\n",
            "1/1 - 0s - loss: 0.0772 - accuracy: 0.9840 - val_loss: 0.0735 - val_accuracy: 0.9835 - 48ms/epoch - 48ms/step\n",
            "Epoch 159/200\n",
            "1/1 - 0s - loss: 0.0854 - accuracy: 0.9820 - val_loss: 0.0732 - val_accuracy: 0.9835 - 49ms/epoch - 49ms/step\n",
            "Epoch 160/200\n",
            "1/1 - 0s - loss: 0.0790 - accuracy: 0.9840 - val_loss: 0.0722 - val_accuracy: 0.9835 - 61ms/epoch - 61ms/step\n",
            "Epoch 161/200\n",
            "1/1 - 0s - loss: 0.0725 - accuracy: 0.9840 - val_loss: 0.0711 - val_accuracy: 0.9835 - 61ms/epoch - 61ms/step\n",
            "Epoch 162/200\n",
            "1/1 - 0s - loss: 0.0722 - accuracy: 0.9840 - val_loss: 0.0706 - val_accuracy: 0.9845 - 49ms/epoch - 49ms/step\n",
            "Epoch 163/200\n",
            "1/1 - 0s - loss: 0.0755 - accuracy: 0.9840 - val_loss: 0.0705 - val_accuracy: 0.9850 - 59ms/epoch - 59ms/step\n",
            "Epoch 164/200\n",
            "1/1 - 0s - loss: 0.0767 - accuracy: 0.9840 - val_loss: 0.0703 - val_accuracy: 0.9850 - 55ms/epoch - 55ms/step\n",
            "Epoch 165/200\n",
            "1/1 - 0s - loss: 0.0755 - accuracy: 0.9840 - val_loss: 0.0701 - val_accuracy: 0.9850 - 57ms/epoch - 57ms/step\n",
            "Epoch 166/200\n",
            "1/1 - 0s - loss: 0.0732 - accuracy: 0.9860 - val_loss: 0.0698 - val_accuracy: 0.9850 - 56ms/epoch - 56ms/step\n",
            "Epoch 167/200\n",
            "1/1 - 0s - loss: 0.0784 - accuracy: 0.9860 - val_loss: 0.0700 - val_accuracy: 0.9840 - 59ms/epoch - 59ms/step\n",
            "Epoch 168/200\n",
            "1/1 - 0s - loss: 0.0746 - accuracy: 0.9840 - val_loss: 0.0702 - val_accuracy: 0.9835 - 47ms/epoch - 47ms/step\n",
            "Epoch 169/200\n",
            "1/1 - 0s - loss: 0.0653 - accuracy: 0.9860 - val_loss: 0.0703 - val_accuracy: 0.9835 - 59ms/epoch - 59ms/step\n",
            "Epoch 170/200\n",
            "1/1 - 0s - loss: 0.0729 - accuracy: 0.9860 - val_loss: 0.0703 - val_accuracy: 0.9835 - 45ms/epoch - 45ms/step\n",
            "Epoch 171/200\n",
            "1/1 - 0s - loss: 0.0706 - accuracy: 0.9840 - val_loss: 0.0700 - val_accuracy: 0.9835 - 51ms/epoch - 51ms/step\n",
            "Epoch 172/200\n",
            "1/1 - 0s - loss: 0.0756 - accuracy: 0.9840 - val_loss: 0.0696 - val_accuracy: 0.9840 - 58ms/epoch - 58ms/step\n",
            "Epoch 173/200\n",
            "1/1 - 0s - loss: 0.0710 - accuracy: 0.9860 - val_loss: 0.0692 - val_accuracy: 0.9845 - 54ms/epoch - 54ms/step\n",
            "Epoch 174/200\n",
            "1/1 - 0s - loss: 0.0735 - accuracy: 0.9860 - val_loss: 0.0689 - val_accuracy: 0.9850 - 63ms/epoch - 63ms/step\n",
            "Epoch 175/200\n",
            "1/1 - 0s - loss: 0.0735 - accuracy: 0.9860 - val_loss: 0.0687 - val_accuracy: 0.9850 - 46ms/epoch - 46ms/step\n",
            "Epoch 176/200\n",
            "1/1 - 0s - loss: 0.0768 - accuracy: 0.9860 - val_loss: 0.0686 - val_accuracy: 0.9850 - 55ms/epoch - 55ms/step\n",
            "Epoch 177/200\n",
            "1/1 - 0s - loss: 0.0696 - accuracy: 0.9860 - val_loss: 0.0685 - val_accuracy: 0.9850 - 57ms/epoch - 57ms/step\n",
            "Epoch 178/200\n",
            "1/1 - 0s - loss: 0.0617 - accuracy: 0.9840 - val_loss: 0.0687 - val_accuracy: 0.9850 - 59ms/epoch - 59ms/step\n",
            "Epoch 179/200\n",
            "1/1 - 0s - loss: 0.0680 - accuracy: 0.9860 - val_loss: 0.0692 - val_accuracy: 0.9840 - 56ms/epoch - 56ms/step\n",
            "Epoch 180/200\n",
            "1/1 - 0s - loss: 0.0736 - accuracy: 0.9860 - val_loss: 0.0695 - val_accuracy: 0.9840 - 49ms/epoch - 49ms/step\n",
            "Epoch 181/200\n",
            "1/1 - 0s - loss: 0.0680 - accuracy: 0.9860 - val_loss: 0.0694 - val_accuracy: 0.9840 - 56ms/epoch - 56ms/step\n",
            "Epoch 182/200\n",
            "1/1 - 0s - loss: 0.0732 - accuracy: 0.9840 - val_loss: 0.0686 - val_accuracy: 0.9845 - 58ms/epoch - 58ms/step\n",
            "Epoch 183/200\n",
            "1/1 - 0s - loss: 0.0682 - accuracy: 0.9860 - val_loss: 0.0680 - val_accuracy: 0.9850 - 63ms/epoch - 63ms/step\n",
            "Epoch 184/200\n",
            "1/1 - 0s - loss: 0.0680 - accuracy: 0.9840 - val_loss: 0.0677 - val_accuracy: 0.9855 - 55ms/epoch - 55ms/step\n",
            "Epoch 185/200\n",
            "1/1 - 0s - loss: 0.0748 - accuracy: 0.9840 - val_loss: 0.0675 - val_accuracy: 0.9855 - 59ms/epoch - 59ms/step\n",
            "Epoch 186/200\n",
            "1/1 - 0s - loss: 0.0700 - accuracy: 0.9820 - val_loss: 0.0675 - val_accuracy: 0.9855 - 72ms/epoch - 72ms/step\n",
            "Epoch 187/200\n",
            "1/1 - 0s - loss: 0.0727 - accuracy: 0.9820 - val_loss: 0.0675 - val_accuracy: 0.9855 - 63ms/epoch - 63ms/step\n",
            "Epoch 188/200\n",
            "1/1 - 0s - loss: 0.0684 - accuracy: 0.9840 - val_loss: 0.0676 - val_accuracy: 0.9855 - 57ms/epoch - 57ms/step\n",
            "Epoch 189/200\n",
            "1/1 - 0s - loss: 0.0712 - accuracy: 0.9840 - val_loss: 0.0678 - val_accuracy: 0.9855 - 66ms/epoch - 66ms/step\n",
            "Epoch 190/200\n",
            "1/1 - 0s - loss: 0.0690 - accuracy: 0.9840 - val_loss: 0.0677 - val_accuracy: 0.9855 - 68ms/epoch - 68ms/step\n",
            "Epoch 191/200\n",
            "1/1 - 0s - loss: 0.0755 - accuracy: 0.9840 - val_loss: 0.0672 - val_accuracy: 0.9855 - 54ms/epoch - 54ms/step\n",
            "Epoch 192/200\n",
            "1/1 - 0s - loss: 0.0747 - accuracy: 0.9840 - val_loss: 0.0669 - val_accuracy: 0.9855 - 61ms/epoch - 61ms/step\n",
            "Epoch 193/200\n",
            "1/1 - 0s - loss: 0.0690 - accuracy: 0.9860 - val_loss: 0.0668 - val_accuracy: 0.9855 - 58ms/epoch - 58ms/step\n",
            "Epoch 194/200\n",
            "1/1 - 0s - loss: 0.0716 - accuracy: 0.9860 - val_loss: 0.0666 - val_accuracy: 0.9855 - 63ms/epoch - 63ms/step\n",
            "Epoch 195/200\n",
            "1/1 - 0s - loss: 0.0721 - accuracy: 0.9840 - val_loss: 0.0666 - val_accuracy: 0.9860 - 62ms/epoch - 62ms/step\n",
            "Epoch 196/200\n",
            "1/1 - 0s - loss: 0.0741 - accuracy: 0.9800 - val_loss: 0.0665 - val_accuracy: 0.9860 - 58ms/epoch - 58ms/step\n",
            "Epoch 197/200\n",
            "1/1 - 0s - loss: 0.0706 - accuracy: 0.9860 - val_loss: 0.0666 - val_accuracy: 0.9860 - 58ms/epoch - 58ms/step\n",
            "Epoch 198/200\n",
            "1/1 - 0s - loss: 0.0575 - accuracy: 0.9860 - val_loss: 0.0670 - val_accuracy: 0.9855 - 74ms/epoch - 74ms/step\n",
            "Epoch 199/200\n",
            "1/1 - 0s - loss: 0.0699 - accuracy: 0.9840 - val_loss: 0.0670 - val_accuracy: 0.9855 - 118ms/epoch - 118ms/step\n",
            "Epoch 200/200\n",
            "1/1 - 0s - loss: 0.0675 - accuracy: 0.9840 - val_loss: 0.0666 - val_accuracy: 0.9860 - 125ms/epoch - 125ms/step\n",
            "16/16 [==============================] - 0s 3ms/step - loss: 0.0367 - accuracy: 0.9920\n",
            "\n",
            "\n",
            "Accuracy= 0.9919999837875366\n",
            "16/16 [==============================] - 0s 2ms/step\n"
          ]
        },
        {
          "output_type": "display_data",
          "data": {
            "text/plain": [
              "<Figure size 640x480 with 1 Axes>"
            ],
            "image/png": "[encoded data removed]"
          },
          "metadata": {}
        },
        {
          "output_type": "display_data",
          "data": {
            "text/plain": [
              "<Figure size 500x500 with 2 Axes>"
            ],
            "image/png": "[encoded data removed]"
          },
          "metadata": {}
        },
        {
          "output_type": "stream",
          "name": "stdout",
          "text": [
            "Total numbers of test cases:  500\n"
          ]
        }
      ]
    },
    {
      "cell_type": "code",
      "source": [
        "def model_efficacy(conf):\n",
        "    total_num = np.sum(conf)\n",
        "\n",
        "    tp = conf[0, 0]\n",
        "    fp = conf[0, 1]\n",
        "    fn = conf[1, 0]\n",
        "    tn = conf[1, 1]\n",
        "\n",
        "    # Sensitivity (True Positive Rate)\n",
        "    sen = tp / (tp + fn)\n",
        "\n",
        "    # Specificity (True Negative Rate)\n",
        "    spe = tn / (tn + fp)\n",
        "\n",
        "    # False Positive Rate\n",
        "    false_positive_rate = fp / (fp + tn)\n",
        "\n",
        "    # False Negative Rate\n",
        "    false_negative_rate = fn / (fn + tp)\n",
        "\n",
        "    print('Sensitivity:', sen)\n",
        "    print('Specificity:', spe)\n",
        "    print('False Positive Rate:', false_positive_rate)\n",
        "    print('False Negative Rate:', false_negative_rate)\n",
        "\n",
        "    return sen, spe, false_positive_rate, false_negative_rate\n",
        "\n",
        "\n",
        "model_efficacy(conf)\n",
        "\n",
        "\n",
        "\n",
        "\n",
        "\n"
      ],
      "metadata": {
        "colab": {
          "base_uri": "https://localhost:8080/"
        },
        "id": "aU8ve721Ak5T",
        "outputId": "c9b1e59b-879c-4df8-b881-1f9fc7af46a0"
      },
      "execution_count": 35,
      "outputs": [
        {
          "output_type": "stream",
          "name": "stdout",
          "text": [
            "Sensitivity: 0.8918918918918919\n",
            "Specificity: 1.0\n",
            "False Positive Rate: 0.0\n",
            "False Negative Rate: 0.10810810810810811\n"
          ]
        },
        {
          "output_type": "execute_result",
          "data": {
            "text/plain": [
              "(0.8918918918918919, 1.0, 0.0, 0.10810810810810811)"
            ]
          },
          "metadata": {},
          "execution_count": 35
        }
      ]
    }
  ]
}